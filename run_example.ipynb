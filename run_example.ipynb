{
 "nbformat": 4,
 "nbformat_minor": 0,
 "metadata": {
  "colab": {
   "name": "run_example.ipynb",
   "provenance": [],
   "collapsed_sections": []
  },
  "kernelspec": {
   "name": "python3",
   "display_name": "Python 3"
  },
  "language_info": {
   "name": "python"
  },
  "accelerator": "GPU"
 },
 "cells": [
  {
   "cell_type": "code",
   "metadata": {
    "id": "Fw_h_nnlNKCx"
   },
   "source": [
    "%%capture\n",
    "!git clone #"
   ],
   "execution_count": null,
   "outputs": []
  },
  {
   "cell_type": "code",
   "metadata": {
    "id": "qLOH0qd1OS41"
   },
   "source": [
    "%%capture\n",
    "%cd gcc\n",
    "!python setup.py install"
   ],
   "execution_count": null,
   "outputs": []
  },
  {
   "cell_type": "code",
   "metadata": {
    "id": "w57mW8sjUJVK"
   },
   "source": [
    "import os\n",
    "os.environ['TF_CPP_MIN_LOG_LEVEL'] = '2'"
   ],
   "execution_count": null,
   "outputs": []
  },
  {
   "cell_type": "markdown",
   "metadata": {
    "id": "Z5nTF5HEUvpo"
   },
   "source": [
    "# Cora"
   ]
  },
  {
   "cell_type": "markdown",
   "metadata": {
    "id": "DF4YfRE9OjMs"
   },
   "source": [
    "Look for the best propagation order $p^*$"
   ]
  },
  {
   "cell_type": "code",
   "metadata": {
    "colab": {
     "base_uri": "https://localhost:8080/"
    },
    "id": "NpzElNRNOai7",
    "outputId": "ddfe1875-549c-44cd-f361-491bb66dff83"
   },
   "source": [
    "!python gcc/tune_power.py --dataset=cora --runs=20"
   ],
   "execution_count": null,
   "outputs": [
    {
     "output_type": "stream",
     "text": [
      "== power 1 ==\n",
      "loss_mean:37.72894157240302 acc_mean:0.6379246676514034 ari_mean:0.37261358791757965 nmi_mean:0.4620770042057192 db_mean:0.8948988373023328 sil_mean:0.3707301004049684 f1_mean:0.5875379323579427  loss_std:0.0013980628276328748 acc_std:0.008951806999017523 ari_std:0.010327043984988763 nmi_std:0.0071500211963945156 f1_std:0.008289687723084188 db_std:0.01177424265445584 sil_std:0.0034000414079086235 \n",
      "== power 2 ==\n",
      "loss_mean:32.061075316543636 acc_mean:0.654837518463811 ari_mean:0.4255620798073257 nmi_mean:0.5246589391251739 db_mean:0.8626559380633699 sil_mean:0.40543793869424594 f1_mean:0.6439043653313294  loss_std:0.0011390987083548657 acc_std:0.0031682522272971484 ari_std:0.002349287456697349 nmi_std:0.0012570045807346504 f1_std:0.002024766755679126 db_std:0.0036744329679806076 sil_std:0.002241030101741015 \n",
      "== power 3 ==\n",
      "loss_mean:28.801749715104883 acc_mean:0.6835302806499259 ari_mean:0.4472078524440882 nmi_mean:0.5440197147869125 db_mean:0.8062240662413634 sil_mean:0.43280731728506694 f1_mean:0.6638450351611765  loss_std:0.0006675021961365709 acc_std:0.0018793221048743632 ari_std:0.0035736346663822584 nmi_std:0.002483141329244369 f1_std:0.0012903721894303609 db_std:0.0029413051501388588 sil_std:0.0016675002734286095 \n",
      "== power 4 ==\n",
      "loss_mean:26.573637123998417 acc_mean:0.7111152141802068 ari_mean:0.47016980331536207 nmi_mean:0.5565845567569746 db_mean:0.7676809604925501 sil_mean:0.45104081344237523 f1_mean:0.6781075394073648  loss_std:0.002533875721113826 acc_std:0.00539964672449809 ari_std:0.007361017238340283 nmi_std:0.005359300174492489 f1_std:0.007587547451313547 db_std:0.01062213530915524 sil_std:0.0034750207720889398 \n",
      "== power 5 ==\n",
      "loss_mean:24.872427235886594 acc_mean:0.7362629246676511 ari_mean:0.5034340478968045 nmi_mean:0.5777665263876254 db_mean:0.6918204740177638 sil_mean:0.46831015773382656 f1_mean:0.697450496432252  loss_std:0.0047862229229960335 acc_std:0.004718361766406236 ari_std:0.006338993357693836 nmi_std:0.005416792565556466 f1_std:0.004532147982065274 db_std:0.014400513342688635 sil_std:0.0005118267020640779 \n",
      "== power 6 ==\n",
      "loss_mean:23.53135583053093 acc_mean:0.7350627769571638 ari_mean:0.5043459505072073 nmi_mean:0.5808950677203828 db_mean:0.6814524231194701 sil_mean:0.47658367480022984 f1_mean:0.6932325285542913  loss_std:0.012038630494599524 acc_std:0.013421285616561052 ari_std:0.012549666079697121 nmi_std:0.010128936807729106 f1_std:0.01939037705995324 db_std:0.02287028453267302 sil_std:0.003524817876123255 \n",
      "== power 7 ==\n",
      "loss_mean:22.42047340366046 acc_mean:0.740454209748892 ari_mean:0.5111216537199358 nmi_mean:0.5873383843180119 db_mean:0.6609672268563566 sil_mean:0.4846608436918182 f1_mean:0.700398485451832  loss_std:2.6943948484124818e-05 acc_std:0.00035563811455422215 ari_std:0.00019257447504031185 nmi_std:0.00034236635364756277 f1_std:0.0004575020282286334 db_std:0.0007836066984701632 sil_std:8.119050962381412e-05 \n",
      "== power 8 ==\n",
      "loss_mean:21.486733124503317 acc_mean:0.7418759231905465 ari_mean:0.5123289272867898 nmi_mean:0.5911354976858398 db_mean:0.6480828465545738 sil_mean:0.4912129538361669 f1_mean:0.7024495661693204  loss_std:3.552713678800501e-15 acc_std:0.0 ari_std:1.1102230246251565e-16 nmi_std:1.137640067256873e-16 f1_std:2.220446049250313e-16 db_std:2.4069061620089815e-16 sil_std:9.745623540847972e-14 \n",
      "== power 9 ==\n",
      "loss_mean:20.685689799484926 acc_mean:0.7448670605613 ari_mean:0.5193139546093788 nmi_mean:0.5937434383863518 db_mean:0.644802896391757 sil_mean:0.4948019496490687 f1_mean:0.7038487623700458  loss_std:0.0002512842109534511 acc_std:0.0005209282119522219 ari_std:0.00022602903852278263 nmi_std:0.0007197508171372224 f1_std:0.0009948097495612086 db_std:0.001887216354343911 sil_std:0.0007796212820746376 \n",
      "== power 10 ==\n",
      "loss_mean:19.98787919446329 acc_mean:0.7433530280649928 ari_mean:0.5137616652228074 nmi_mean:0.5924328621568712 db_mean:0.6382305938500219 sil_mean:0.49884695650302946 f1_mean:0.703331254269269  loss_std:0.0 acc_std:2.220446049250313e-16 ari_std:2.220446049250313e-16 nmi_std:1.8742721836921975e-16 f1_std:2.220446049250313e-16 db_std:3.8459253727671276e-16 sil_std:9.203960805108611e-14 \n",
      "== power 11 ==\n",
      "loss_mean:19.373306996219437 acc_mean:0.7407680945347119 ari_mean:0.5081828709154457 nmi_mean:0.5888304506270892 db_mean:0.6324772692804062 sil_mean:0.5018974534887386 f1_mean:0.7014166226389505  loss_std:0.0006682023225912658 acc_std:0.003219275438360919 ari_std:0.00685102718211624 nmi_std:0.003440703362579738 f1_std:0.0029041388805038375 db_std:0.006420005550295566 sil_std:0.001390560804157635 \n",
      "== power 12 ==\n",
      "loss_mean:18.826891009872284 acc_mean:0.7405649926144757 ari_mean:0.5084838760178194 nmi_mean:0.5892987764449148 db_mean:0.6287249174513053 sil_mean:0.5043585071158948 f1_mean:0.7007981811566687  loss_std:0.0008271905758939664 acc_std:0.0055972761904022105 ari_std:0.010448688647551739 nmi_std:0.005518187639981098 f1_std:0.005544006781458599 db_std:0.012233074425674456 sil_std:0.002265016000610164 \n",
      "== power 13 ==\n",
      "loss_mean:18.33735714976407 acc_mean:0.739290989660266 ari_mean:0.5070188972396179 nmi_mean:0.5895378158191613 db_mean:0.6178236339144783 sil_mean:0.5075940981586503 f1_mean:0.6971267941015611  loss_std:0.0005930446552927568 acc_std:0.015334970304908508 ari_std:0.02209688942783561 nmi_std:0.009225336818219704 f1_std:0.02740271688764189 db_std:0.012434732151081394 sil_std:0.0009507052752318993 \n",
      "best power: 12\n"
     ],
     "name": "stdout"
    }
   ]
  },
  {
   "cell_type": "markdown",
   "metadata": {
    "id": "O9V7J0MnOsK-"
   },
   "source": [
    "Run and time GCC with the $p^*$ we found"
   ]
  },
  {
   "cell_type": "code",
   "metadata": {
    "colab": {
     "base_uri": "https://localhost:8080/"
    },
    "id": "eXC2AEZoOnuJ",
    "outputId": "149050d1-b6f5-4721-9cee-6313077d796d"
   },
   "source": [
    "!python gcc/run.py --dataset=cora --runs=20 --power=12"
   ],
   "execution_count": null,
   "outputs": [
    {
     "output_type": "stream",
     "text": [
      "time_mean:0.9566853046417236 loss_mean:18.826611717479942 acc_mean:0.742374446085672 ari_mean:0.5119025676709507 nmi_mean:0.5910296072647834 db_mean:0.6245465875542179 sil_mean:0.5051477690924092 f1_mean:0.7025674705487899  time_std:0.37521120899406357 loss_std:1.1760781033633758e-05 acc_std:0.00017613353054231088 ari_std:0.00020002554635452713 nmi_std:0.0003742634234070547 f1_std:0.0002451638024080748 db_std:0.00033162472536623207 sil_std:0.00011268071055729382 \n"
     ],
     "name": "stdout"
    }
   ]
  },
  {
   "cell_type": "markdown",
   "metadata": {
    "id": "QQPZNsF9W1AJ"
   },
   "source": [
    "# Wiki"
   ]
  },
  {
   "cell_type": "markdown",
   "metadata": {
    "id": "MpIpAPrsWziY"
   },
   "source": [
    "Look for the best propagation order $p^*$"
   ]
  },
  {
   "cell_type": "code",
   "metadata": {
    "colab": {
     "base_uri": "https://localhost:8080/"
    },
    "id": "_SnXSFWwWziZ",
    "outputId": "2d35dac9-cdf9-404d-d7a5-4d17c053afc3"
   },
   "source": [
    "!python gcc/tune_power.py --dataset=wiki --runs=20"
   ],
   "execution_count": null,
   "outputs": [
    {
     "output_type": "stream",
     "text": [
      "== power 1 ==\n",
      "loss_mean:32.91920724143249 acc_mean:0.5251559251559251 ari_mean:0.3498175452840336 nmi_mean:0.5409570475870014 db_mean:0.9020850823344866 sil_mean:0.40973383827514853 f1_mean:0.451675257256983  loss_std:0.0017449979242582414 acc_std:0.0012264350273391014 ari_std:0.006488968295549446 nmi_std:0.0040126774189067765 f1_std:0.0045997444604448795 db_std:0.009633257377839452 sil_std:0.001597502630994793 \n",
      "== power 2 ==\n",
      "loss_mean:27.964185640281148 acc_mean:0.5362993762993763 ari_mean:0.3351791993955956 nmi_mean:0.5428955509517364 db_mean:0.9140293808301818 sil_mean:0.39900060676008364 f1_mean:0.4611284913758483  loss_std:0.008606480068281871 acc_std:0.008074026135586318 ari_std:0.010201088127886157 nmi_std:0.0036784829535050235 f1_std:0.013886070258902525 db_std:0.016033691328648927 sil_std:0.002051351980291322 \n",
      "== power 3 ==\n",
      "loss_mean:24.989721317813597 acc_mean:0.5373388773388772 ari_mean:0.3311860803182541 nmi_mean:0.549320775305108 db_mean:0.9092105904415904 sil_mean:0.39674449262504774 f1_mean:0.4635493704558943  loss_std:0.005355526494606255 acc_std:0.0048882640000951294 ari_std:0.006440563125750927 nmi_std:0.003027882555618252 f1_std:0.007895495661664403 db_std:0.007778405524250394 sil_std:0.0014443531233519578 \n",
      "== power 4 ==\n",
      "loss_mean:22.9018097108406 acc_mean:0.5457380457380457 ari_mean:0.3351320477138375 nmi_mean:0.5508744784135976 db_mean:0.8924438992868623 sil_mean:0.3989583258465662 f1_mean:0.4637045360973941  loss_std:0.003954032603618392 acc_std:0.01183206093566087 ari_std:0.00828386731115925 nmi_std:0.0031393893533866657 f1_std:0.010457928425343507 db_std:0.020578998957610204 sil_std:0.0028164955075205356 \n",
      "== power 5 ==\n",
      "loss_mean:21.297265301412445 acc_mean:0.5416424116424117 ari_mean:0.32626874151052326 nmi_mean:0.5473644743304191 db_mean:0.8684707262275847 sil_mean:0.39976425074885696 f1_mean:0.45943639344571024  loss_std:0.008013658561169229 acc_std:0.016539386021718182 ari_std:0.00581426034278349 nmi_std:0.004713758543041092 f1_std:0.010411228243172702 db_std:0.028249774928581148 sil_std:0.005955697895368417 \n",
      "best power: 4\n"
     ],
     "name": "stdout"
    }
   ]
  },
  {
   "cell_type": "markdown",
   "metadata": {
    "id": "FQOJdWmQWzia"
   },
   "source": [
    "Run and time GCC with the $p^*$ we found"
   ]
  },
  {
   "cell_type": "code",
   "metadata": {
    "colab": {
     "base_uri": "https://localhost:8080/"
    },
    "id": "hAOb9ELkWzib",
    "outputId": "548c8b67-fa92-4ff4-c510-79cb048caef6"
   },
   "source": [
    "!python gcc/run.py --dataset=wiki --runs=20 --power=4"
   ],
   "execution_count": 5,
   "outputs": [
    {
     "output_type": "stream",
     "text": [
      "time_mean:2.890522134304047 loss_mean:22.905084648963282 acc_mean:0.5433056133056132 ari_mean:0.33836188205470885 nmi_mean:0.5517095712658524 db_mean:0.90665948906491 sil_mean:0.3973514098862267 f1_mean:0.4640283925171606  time_std:0.4022031588416949 loss_std:0.003818735516175145 acc_std:0.010529093662638574 ari_std:0.009432940837766465 nmi_std:0.0034867008470824286 f1_std:0.005921428592408881 db_std:0.010874405862369681 sil_std:0.002167428312082353 \n"
     ],
     "name": "stdout"
    }
   ]
  }
 ]
}